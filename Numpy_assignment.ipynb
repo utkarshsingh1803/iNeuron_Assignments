{
 "cells": [
  {
   "cell_type": "code",
   "execution_count": 56,
   "id": "caf420ff",
   "metadata": {},
   "outputs": [],
   "source": [
    "def window_avg(array,k):\n",
    "    window_avg_array=[]\n",
    "    for i in range (0,len(array)-k+1):\n",
    "        window_array = array[i:i+k]\n",
    "        average = sum(window_array)/k\n",
    "        window_avg_array.append(average)\n",
    "    i+=1\n",
    "    print(window_avg_array)\n",
    "        "
   ]
  },
  {
   "cell_type": "code",
   "execution_count": 57,
   "id": "a7fd066d",
   "metadata": {},
   "outputs": [
    {
     "name": "stdout",
     "output_type": "stream",
     "text": [
      "[5.0, 4.666666666666667, 5.666666666666667, 6.666666666666667, 9.666666666666666, 28.666666666666668, 49.333333333333336, 72.66666666666667, 84.0, 93.33333333333333, 116.33333333333333]\n",
      "None\n"
     ]
    }
   ],
   "source": [
    "a = np.array([3, 5, 7, 2, 8, 10, 11, 65, 72, 81, 99, 100, 150])\n",
    "print(window_avg(a, 3))"
   ]
  }
 ],
 "metadata": {
  "kernelspec": {
   "display_name": "Python 3 (ipykernel)",
   "language": "python",
   "name": "python3"
  },
  "language_info": {
   "codemirror_mode": {
    "name": "ipython",
    "version": 3
   },
   "file_extension": ".py",
   "mimetype": "text/x-python",
   "name": "python",
   "nbconvert_exporter": "python",
   "pygments_lexer": "ipython3",
   "version": "3.9.7"
  }
 },
 "nbformat": 4,
 "nbformat_minor": 5
}
